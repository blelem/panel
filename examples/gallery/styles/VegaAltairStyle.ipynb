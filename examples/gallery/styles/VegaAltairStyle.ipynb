{
 "cells": [
  {
   "cell_type": "code",
   "execution_count": null,
   "id": "1e346904-0807-48a0-84f4-1a1fda1fd4a0",
   "metadata": {},
   "outputs": [],
   "source": [
    "import altair as alt\n",
    "import panel as pn\n",
    "\n",
    "from vega_datasets import data\n",
    "\n",
    "\n",
    "pn.extension(\"vega\", sizing_mode=\"stretch_width\")"
   ]
  },
  {
   "cell_type": "markdown",
   "id": "d2c9f5b8-5b04-4bca-a9e5-3374d06fc224",
   "metadata": {},
   "source": [
    "## Styling Vega and Altair for Panel\n",
    "\n",
    "In this example we will show how to style Vega and Altair charts with Panel supporting the `default` and the `dark` theme.\n",
    "\n",
    "![VegaAltairStyle.gif](../../assets/VegaAltairStyle.gif)"
   ]
  },
  {
   "cell_type": "markdown",
   "id": "50675675-737a-4597-a940-9ac3713bde69",
   "metadata": {},
   "source": [
    "## Get or set the theme\n",
    "\n",
    "When we use the Fast templates the theme will be available from the query args"
   ]
  },
  {
   "cell_type": "code",
   "execution_count": null,
   "id": "386dd733-47d6-4ede-8f2d-b3c1491eaf14",
   "metadata": {},
   "outputs": [],
   "source": [
    "def get_theme():\n",
    "    return pn.state.session_args.get(\"theme\", [b'default'])[0].decode()"
   ]
  },
  {
   "cell_type": "code",
   "execution_count": null,
   "id": "09b22f84-8522-4e26-a042-2a93e99cdb30",
   "metadata": {},
   "outputs": [],
   "source": [
    "theme=get_theme()\n",
    "theme"
   ]
  },
  {
   "cell_type": "markdown",
   "id": "cc70e271-f0d2-42cb-a781-b007c8bf87eb",
   "metadata": {},
   "source": [
    "## Select a nice accent color\n",
    "\n",
    "Below we create some functionality to *cycle through* a list of nice accent colors."
   ]
  },
  {
   "cell_type": "code",
   "execution_count": null,
   "id": "708ead12-d5f3-42d4-a3dc-0e0efc2dfc49",
   "metadata": {},
   "outputs": [],
   "source": [
    "nice_accent_colors = [\n",
    "    (\"#00A170\", \"white\"), # Mint\n",
    "    (\"#DAA520\", \"white\"), # Orange\n",
    "    (\"#F08080\", \"white\"), # pink\n",
    "    (\"#4099da\", \"white\"), # lightblue\n",
    "]"
   ]
  },
  {
   "cell_type": "code",
   "execution_count": null,
   "id": "6de7783e-48a4-4101-8644-1301739023f7",
   "metadata": {},
   "outputs": [],
   "source": [
    "def get_nice_accent_color():\n",
    "    \"\"\"Returns the 'next' color\"\"\"\n",
    "    if not \"color_index\" in pn.state.cache:\n",
    "        pn.state.cache[\"color_index\"]=0\n",
    "    elif pn.state.cache[\"color_index\"]==len(nice_accent_colors)-1:\n",
    "        pn.state.cache[\"color_index\"]=0\n",
    "    else:\n",
    "        pn.state.cache[\"color_index\"]+=1\n",
    "    return nice_accent_colors[pn.state.cache[\"color_index\"]]"
   ]
  },
  {
   "cell_type": "code",
   "execution_count": null,
   "id": "e667c6b1-0241-4c4b-a8cc-68eba61cc743",
   "metadata": {},
   "outputs": [],
   "source": [
    "accent_color, color = get_nice_accent_color()\n",
    "pn.pane.Markdown(f\"# Color: {accent_color}\", background=accent_color, height=70, margin=0, style={\"color\": color, \"padding\": \"10px\"})"
   ]
  },
  {
   "cell_type": "markdown",
   "id": "b1cd377b-757d-4f51-875c-52292c15a4a9",
   "metadata": {},
   "source": [
    "## Vega\n",
    "\n",
    "You can configure the style of Vega via the `config` key. \n",
    "\n",
    "See [Vega Themes](https://github.com/vega/vega-themes/) and the [Vega Themes Explorer App](https://vega.github.io/vega-themes) for more examples."
   ]
  },
  {
   "cell_type": "code",
   "execution_count": null,
   "id": "94acee7f-433d-4f8e-b9b9-9920ff56de4c",
   "metadata": {},
   "outputs": [],
   "source": [
    "def get_vega_plot(theme=\"default\", accent_color=\"blue\"):\n",
    "    vegalite = {\n",
    "        \"$schema\": \"https://vega.github.io/schema/vega/v5.json\",\n",
    "        \"description\": \"A basic area chart example.\",\n",
    "        \"width\": 800,\n",
    "        \"height\": 500,\n",
    "        \"padding\": 5,\n",
    "        \"data\": [\n",
    "        {\n",
    "          \"name\": \"table\",\n",
    "          \"values\": [\n",
    "            {\"u\": 1,  \"v\": 28}, {\"u\": 2,  \"v\": 55},\n",
    "            {\"u\": 3,  \"v\": 43}, {\"u\": 4,  \"v\": 91},\n",
    "            {\"u\": 5,  \"v\": 81}, {\"u\": 6,  \"v\": 53},\n",
    "            {\"u\": 7,  \"v\": 19}, {\"u\": 8,  \"v\": 87},\n",
    "            {\"u\": 9,  \"v\": 52}, {\"u\": 10, \"v\": 48},\n",
    "            {\"u\": 11, \"v\": 24}, {\"u\": 12, \"v\": 49},\n",
    "            {\"u\": 13, \"v\": 87}, {\"u\": 14, \"v\": 66},\n",
    "            {\"u\": 15, \"v\": 17}, {\"u\": 16, \"v\": 27},\n",
    "            {\"u\": 17, \"v\": 68}, {\"u\": 18, \"v\": 16},\n",
    "            {\"u\": 19, \"v\": 49}, {\"u\": 20, \"v\": 15}\n",
    "          ]\n",
    "        }\n",
    "        ],\n",
    "\n",
    "        \"scales\": [\n",
    "        {\n",
    "          \"name\": \"xscale\",\n",
    "          \"type\": \"linear\",\n",
    "          \"range\": \"width\",\n",
    "          \"zero\": False,\n",
    "          \"domain\": {\"data\": \"table\", \"field\": \"u\"}\n",
    "        },\n",
    "        {\n",
    "          \"name\": \"yscale\",\n",
    "          \"type\": \"linear\",\n",
    "          \"range\": \"height\",\n",
    "          \"nice\": True,\n",
    "          \"zero\": True,\n",
    "          \"domain\": {\"data\": \"table\", \"field\": \"v\"}\n",
    "        }\n",
    "        ],\n",
    "\n",
    "        \"axes\": [\n",
    "        {\"orient\": \"bottom\", \"scale\": \"xscale\", \"tickCount\": 20},\n",
    "        {\"orient\": \"left\", \"scale\": \"yscale\"}\n",
    "        ],\n",
    "\n",
    "        \"marks\": [\n",
    "        {\n",
    "          \"type\": \"area\",\n",
    "          \"from\": {\"data\": \"table\"},\n",
    "          \"encode\": {\n",
    "            \"enter\": {\n",
    "              \"x\": {\"scale\": \"xscale\", \"field\": \"u\"},\n",
    "              \"y\": {\"scale\": \"yscale\", \"field\": \"v\"},\n",
    "              \"y2\": {\"scale\": \"yscale\", \"value\": 0},\n",
    "              \"fill\": {\"value\": accent_color},\n",
    "              \"interpolate\": {\"value\": \"cardinal\"},\n",
    "            },\n",
    "          },\n",
    "          \n",
    "        }\n",
    "        ]\n",
    "        }\n",
    "\n",
    "    if theme == \"dark\":\n",
    "        vegalite[\"config\"] = {\n",
    "            \"background\": \"#333\",\n",
    "            \"title\": {\"color\": \"#fff\"},\n",
    "            \"style\": {\"guide-label\": {\"fill\": \"#fff\"}, \"guide-title\": {\"fill\": \"#fff\"}},\n",
    "            \"axis\": {\"domainColor\": \"#fff\", \"gridColor\": \"#888\", \"tickColor\": \"#fff\"},\n",
    "        }\n",
    "    return vegalite"
   ]
  },
  {
   "cell_type": "code",
   "execution_count": null,
   "id": "75772f01-1f17-4750-b044-159b4bd7654f",
   "metadata": {},
   "outputs": [],
   "source": [
    "vega_plot = get_vega_plot(theme=theme, accent_color=accent_color)\n",
    "vega_pane = pn.pane.Vega(vega_plot, height=500, sizing_mode=\"stretch_both\", name=\"VEGA\")\n",
    "vega_pane"
   ]
  },
  {
   "cell_type": "markdown",
   "id": "5e35703d-362a-4ab0-86e8-8cbe5bf9e1e4",
   "metadata": {},
   "source": [
    "## Altair\n",
    "\n",
    "You can select the theme of Altair plots using [`altair.themes.enable`](https://altair-viz.github.io/user_guide/configuration.html#altair-themes) and the color using the `configure_mark` method.\n",
    "\n",
    "For more details see the \n",
    "\n",
    "- [Altair Customization Guide](https://altair-viz.github.io/user_guide/customization.html#customizing-visualizations)\n",
    "- [Altair Themes Guide](https://altair-viz.github.io/user_guide/configuration.html#altair-themes)"
   ]
  },
  {
   "cell_type": "code",
   "execution_count": null,
   "id": "89eb09fe-96f6-4c98-a7fd-30609cc5887a",
   "metadata": {},
   "outputs": [],
   "source": [
    "def get_altair_plot(theme=\"default\", accent_color=\"blue\"):\n",
    "    if theme == \"dark\":\n",
    "        alt.themes.enable(\"dark\")\n",
    "    else:\n",
    "        alt.themes.enable(\"default\")\n",
    "    return (\n",
    "        alt.Chart(data.cars())\n",
    "        .mark_circle(size=200)\n",
    "        .encode(\n",
    "            x='Horsepower:Q',\n",
    "            y='Miles_per_Gallon:Q',\n",
    "            tooltip=[\"Name\", \"Origin\", \"Horsepower\", \"Miles_per_Gallon\"],\n",
    "        )\n",
    "        .configure_mark(\n",
    "            color=accent_color\n",
    "        )\n",
    "        .properties(\n",
    "            height=\"container\",\n",
    "            width=\"container\",\n",
    "        )\n",
    "        .interactive()\n",
    "    )"
   ]
  },
  {
   "cell_type": "code",
   "execution_count": null,
   "id": "544259f3-db79-4194-879a-760a1b97615d",
   "metadata": {},
   "outputs": [],
   "source": [
    "altair_plot = get_altair_plot(theme=theme, accent_color=accent_color)\n",
    "altair_pane = pn.pane.Vega(altair_plot, height=500, sizing_mode=\"stretch_both\", name=\"ALTAIR\")\n",
    "altair_pane"
   ]
  },
  {
   "cell_type": "markdown",
   "id": "7df66da6-09a1-455d-9cce-6eaa74df24b0",
   "metadata": {},
   "source": [
    "## Wrap it up in a nice template\n",
    "\n",
    "Here we use the [`FastListTemplate`](https://panel.holoviz.org/reference/templates/FastListTemplate.html#templates-gallery-fastlisttemplate)"
   ]
  },
  {
   "cell_type": "code",
   "execution_count": null,
   "id": "ff611094-913f-497f-a537-5c54dc8eb1a5",
   "metadata": {},
   "outputs": [],
   "source": [
    "template = pn.template.FastListTemplate(\n",
    "    site=\"Panel\",\n",
    "    title=\"Vega and Altair Styling\",\n",
    "    main=[pn.Tabs(vega_pane, altair_pane)],\n",
    "    accent_base_color=accent_color,\n",
    "    header_background=accent_color,\n",
    "    header_color=color\n",
    ").servable();"
   ]
  },
  {
   "cell_type": "markdown",
   "id": "20242cb2-9c2f-44a3-bc91-523044bff776",
   "metadata": {},
   "source": [
    "You can serve the app via `panel serve VegaAltairStyle.ipynb` and find it at `http://localhost:5006/VegaAltairStyle`. You should add the `--autoreload` flag while developing for *hot reloading*."
   ]
  }
 ],
 "metadata": {
  "kernelspec": {
   "display_name": "Python 3 (ipykernel)",
   "language": "python",
   "name": "python3"
  },
  "language_info": {
   "codemirror_mode": {
    "name": "ipython",
    "version": 3
   },
   "file_extension": ".py",
   "mimetype": "text/x-python",
   "name": "python",
   "nbconvert_exporter": "python",
   "pygments_lexer": "ipython3",
   "version": "3.7.10"
  }
 },
 "nbformat": 4,
 "nbformat_minor": 5
}
