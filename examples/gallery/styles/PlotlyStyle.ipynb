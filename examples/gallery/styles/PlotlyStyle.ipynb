{
 "cells": [
  {
   "cell_type": "code",
   "execution_count": null,
   "id": "1e346904-0807-48a0-84f4-1a1fda1fd4a0",
   "metadata": {},
   "outputs": [],
   "source": [
    "import pandas as pd\n",
    "import panel as pn\n",
    "\n",
    "import plotly.express as px\n",
    "\n",
    "pn.extension(\"plotly\", sizing_mode=\"stretch_width\")"
   ]
  },
  {
   "cell_type": "markdown",
   "id": "d2c9f5b8-5b04-4bca-a9e5-3374d06fc224",
   "metadata": {},
   "source": [
    "## Styling Plotly for Panel\n",
    "\n",
    "In this example we will show how to style Plotly plots with Panel supporting the `default` and the `dark` theme.\n",
    "\n",
    "![PlotlyStyle.gif](../../assets/PlotlyStyle.gif)"
   ]
  },
  {
   "cell_type": "markdown",
   "id": "50675675-737a-4597-a940-9ac3713bde69",
   "metadata": {},
   "source": [
    "## Get or set the theme\n",
    "\n",
    "When we use the Fast templates the theme will be available from the query args"
   ]
  },
  {
   "cell_type": "code",
   "execution_count": null,
   "id": "386dd733-47d6-4ede-8f2d-b3c1491eaf14",
   "metadata": {},
   "outputs": [],
   "source": [
    "def get_theme():\n",
    "    return pn.state.session_args.get(\"theme\", [b'default'])[0].decode()"
   ]
  },
  {
   "cell_type": "code",
   "execution_count": null,
   "id": "09b22f84-8522-4e26-a042-2a93e99cdb30",
   "metadata": {},
   "outputs": [],
   "source": [
    "theme=get_theme()\n",
    "theme"
   ]
  },
  {
   "cell_type": "markdown",
   "id": "cc70e271-f0d2-42cb-a781-b007c8bf87eb",
   "metadata": {},
   "source": [
    "## Select a nice accent color\n",
    "\n",
    "Below we create some functionality to *cycle through* a list of nice accent colors."
   ]
  },
  {
   "cell_type": "code",
   "execution_count": null,
   "id": "708ead12-d5f3-42d4-a3dc-0e0efc2dfc49",
   "metadata": {},
   "outputs": [],
   "source": [
    "nice_accent_colors = [\n",
    "    (\"#00A170\", \"white\"), # Mint\n",
    "    (\"#DAA520\", \"white\"), # Golden Rod\n",
    "    (\"#F08080\", \"white\"), # Light Coral\n",
    "    (\"#4099da\", \"white\"), # Summery Sky\n",
    "    (\"#2F4F4F\", \"white\"), # Dark Slate Grey\n",
    "    (\"#A01346\", \"white\"), # Fast\n",
    "]"
   ]
  },
  {
   "cell_type": "code",
   "execution_count": null,
   "id": "6de7783e-48a4-4101-8644-1301739023f7",
   "metadata": {},
   "outputs": [],
   "source": [
    "def get_nice_accent_color():\n",
    "    \"\"\"Returns the 'next' nice accent color\"\"\"\n",
    "    if not \"color_index\" in pn.state.cache:\n",
    "        pn.state.cache[\"color_index\"]=0\n",
    "    elif pn.state.cache[\"color_index\"]==len(nice_accent_colors)-1:\n",
    "        pn.state.cache[\"color_index\"]=0\n",
    "    else:\n",
    "        pn.state.cache[\"color_index\"]+=1\n",
    "    return nice_accent_colors[pn.state.cache[\"color_index\"]]"
   ]
  },
  {
   "cell_type": "code",
   "execution_count": null,
   "id": "e667c6b1-0241-4c4b-a8cc-68eba61cc743",
   "metadata": {},
   "outputs": [],
   "source": [
    "accent_color, color = get_nice_accent_color()\n",
    "pn.pane.Markdown(f\"# Color: {accent_color}\", background=accent_color, height=70, margin=0, style={\"color\": color, \"padding\": \"10px\"})"
   ]
  },
  {
   "cell_type": "markdown",
   "id": "b1cd377b-757d-4f51-875c-52292c15a4a9",
   "metadata": {},
   "source": [
    "## Plotly Express\n",
    "\n",
    "Plotly Express enables you to specify a `template`. Lets create a widget for selecting the template"
   ]
  },
  {
   "cell_type": "code",
   "execution_count": null,
   "id": "b7f78150-bc55-48f9-895b-150f818d8d78",
   "metadata": {},
   "outputs": [],
   "source": [
    "plotly_template = pn.widgets.Select(options=[\"plotly\", \"plotly_dark\"])"
   ]
  },
  {
   "cell_type": "markdown",
   "id": "632e52a1-98ea-4f1e-be5e-325e947514e9",
   "metadata": {},
   "source": [
    "and set its default value"
   ]
  },
  {
   "cell_type": "code",
   "execution_count": null,
   "id": "dddd5b09-3d72-41b6-b0bf-070ecd337e40",
   "metadata": {},
   "outputs": [],
   "source": [
    "if theme==\"dark\":\n",
    "    plotly_template.value=\"plotly_dark\""
   ]
  },
  {
   "cell_type": "code",
   "execution_count": null,
   "id": "fe090498-7d1c-49bd-835b-dcec40cd2ccb",
   "metadata": {},
   "outputs": [],
   "source": [
    "def get_plot(template=plotly_template.value, accent_color=accent_color):\n",
    "    data = pd.DataFrame(\n",
    "        [\n",
    "            (\"Monday\", 7),\n",
    "            (\"Tuesday\", 4),\n",
    "            (\"Wednesday\", 9),\n",
    "            (\"Thursday\", 4),\n",
    "            (\"Friday\", 4),\n",
    "            (\"Saturday\", 4),\n",
    "            (\"Sunay\", 4),\n",
    "        ],\n",
    "        columns=[\"Day\", \"Orders\"],\n",
    "    )\n",
    "    fig = px.line(\n",
    "        data,\n",
    "        x=\"Day\",\n",
    "        y=\"Orders\",\n",
    "        template=template,\n",
    "        color_discrete_sequence=(accent_color,),\n",
    "    )\n",
    "    fig.update_traces(mode=\"lines+markers\", marker=dict(size=10), line=dict(width=4))\n",
    "    fig.layout.autosize = True\n",
    "    return fig\n",
    "\n"
   ]
  },
  {
   "cell_type": "markdown",
   "id": "6605b49e-dd94-4046-997e-47414121b3a6",
   "metadata": {},
   "source": [
    "Lets [bind](https://panel.holoviz.org/user_guide/APIs.html#reactive-functions) `get_plot` to the selected `template` and lay out the two in a `Column`."
   ]
  },
  {
   "cell_type": "code",
   "execution_count": null,
   "id": "75772f01-1f17-4750-b044-159b4bd7654f",
   "metadata": {},
   "outputs": [],
   "source": [
    "get_plot=pn.bind(get_plot, template=plotly_template)\n",
    "plotly_component = pn.Column(plotly_template,pn.pane.panel(get_plot, config={\"responsive\": True}, sizing_mode=\"stretch_both\", name=\"Plotly Express\"), sizing_mode=\"stretch_both\")\n",
    "plotly_component"
   ]
  },
  {
   "cell_type": "markdown",
   "id": "7df66da6-09a1-455d-9cce-6eaa74df24b0",
   "metadata": {},
   "source": [
    "## Wrap it up in a nice template\n",
    "\n",
    "Here we use the [`FastListTemplate`](https://panel.holoviz.org/reference/templates/FastListTemplate.html#templates-gallery-fastlisttemplate)"
   ]
  },
  {
   "cell_type": "code",
   "execution_count": null,
   "id": "ff611094-913f-497f-a537-5c54dc8eb1a5",
   "metadata": {},
   "outputs": [],
   "source": [
    "template = pn.template.FastListTemplate(\n",
    "    site=\"Panel\",\n",
    "    title=\"Styling Plotly\",\n",
    "    main=[plotly_component],\n",
    "    accent_base_color=accent_color,\n",
    "    header_background=accent_color,\n",
    "    header_color=color\n",
    ").servable();"
   ]
  },
  {
   "cell_type": "markdown",
   "id": "20242cb2-9c2f-44a3-bc91-523044bff776",
   "metadata": {},
   "source": [
    "You can serve the app via `panel serve PlotlyStyle.ipynb` and find it at `http://localhost:5006/PlotlyStyle`. You should add the `--autoreload` flag while developing for *hot reloading*."
   ]
  }
 ],
 "metadata": {
  "kernelspec": {
   "display_name": "Python 3 (ipykernel)",
   "language": "python",
   "name": "python3"
  },
  "language_info": {
   "codemirror_mode": {
    "name": "ipython",
    "version": 3
   },
   "file_extension": ".py",
   "mimetype": "text/x-python",
   "name": "python",
   "nbconvert_exporter": "python",
   "pygments_lexer": "ipython3",
   "version": "3.7.10"
  }
 },
 "nbformat": 4,
 "nbformat_minor": 5
}
